{
  "nbformat": 4,
  "nbformat_minor": 0,
  "metadata": {
    "colab": {
      "provenance": [],
      "authorship_tag": "ABX9TyMQAdg62o00bjKzmPuQ+Hue",
      "include_colab_link": true
    },
    "kernelspec": {
      "name": "python3",
      "display_name": "Python 3"
    },
    "language_info": {
      "name": "python"
    }
  },
  "cells": [
    {
      "cell_type": "markdown",
      "metadata": {
        "id": "view-in-github",
        "colab_type": "text"
      },
      "source": [
        "<a href=\"https://colab.research.google.com/github/leamarcec/Traffic_sign_classification/blob/main/klasifikacija_prometnih_znakova_model3.ipynb\" target=\"_parent\"><img src=\"https://colab.research.google.com/assets/colab-badge.svg\" alt=\"Open In Colab\"/></a>"
      ]
    },
    {
      "cell_type": "code",
      "execution_count": null,
      "metadata": {
        "colab": {
          "base_uri": "https://localhost:8080/"
        },
        "id": "u5Ps7q942aHh",
        "outputId": "fb3b975b-efba-4174-d1c7-74396fa2a534"
      },
      "outputs": [
        {
          "output_type": "stream",
          "name": "stdout",
          "text": [
            "Mounted at /content/drive\n"
          ]
        }
      ],
      "source": [
        "from google.colab import drive\n",
        "drive.mount('/content/drive', force_remount=True)"
      ]
    },
    {
      "cell_type": "code",
      "source": [
        "import os\n",
        "import zipfile\n",
        "\n",
        "zip_ref = zipfile.ZipFile('/content/drive/MyDrive/images.zip', 'r')\n",
        "zip_ref.extractall('/tmp')\n",
        "zip_ref.close()\n",
        "len(os.listdir('/tmp/images/'))"
      ],
      "metadata": {
        "colab": {
          "base_uri": "https://localhost:8080/"
        },
        "id": "WhEXF7yY2tZz",
        "outputId": "20ec7805-2485-4570-9461-84eea830876a"
      },
      "execution_count": null,
      "outputs": [
        {
          "output_type": "execute_result",
          "data": {
            "text/plain": [
              "6"
            ]
          },
          "metadata": {},
          "execution_count": 2
        }
      ]
    },
    {
      "cell_type": "code",
      "source": [
        "base_dir = '/tmp/images/'\n",
        "\n",
        "train_directory = os.path.join(base_dir, 'Train')\n",
        "\n",
        "validation_directory = os.path.join(base_dir, 'Test')"
      ],
      "metadata": {
        "id": "fahLSETb20bk"
      },
      "execution_count": null,
      "outputs": []
    },
    {
      "cell_type": "code",
      "source": [
        "# Direktorij sa trening slikama koje predstavljaju znakove izricitih naredbi\n",
        "train_class11_dir = os.path.join(train_directory, 'znakovi-izricitih-naredbi')\n",
        "\n",
        "# Direktorij sa trening slikama koje predstavljaju znakove obavijesti\n",
        "train_class22_dir = os.path.join(train_directory, 'znakovi-obavijesti')\n",
        "\n",
        "# Direktorij sa trening slikama koje predstavljaju znakove opasnosti\n",
        "train_class33_dir = os.path.join(train_directory, 'znakovi-opasnosti')\n",
        "\n",
        "# Direktorij sa test slikama koje predstavljaju znakove izricitih naredbi\n",
        "test_directory1 = os.path.join(validation_directory, 'znakovi-izricitih-naredbi')\n",
        "\n",
        "# Direktorij sa test slikama koje predstavljaju znakove obavijesti\n",
        "test_directory2 = os.path.join(validation_directory, 'znakovi-obavijesti')\n",
        "\n",
        "# Direktorij sa test slikama koje predstavljaju znakove opasnosti\n",
        "test_directory3 = os.path.join(validation_directory, 'znakovi-opasnosti')"
      ],
      "metadata": {
        "id": "SRAeOrG03BAW"
      },
      "execution_count": null,
      "outputs": []
    },
    {
      "cell_type": "code",
      "source": [
        "print('Total number of training images of traffic signs with explicit commands:', len(os.listdir(train_class11_dir)))\n",
        "print('Total number of training images of traffic signs with road notifications:', len(os.listdir(train_class22_dir)))\n",
        "print('Total number of training images of danger traffic signs:', len(os.listdir(train_class33_dir)))\n",
        "\n",
        "print('Total number of test images of traffic signs with explicit commands:', len(os.listdir(test_directory1)))\n",
        "print('Total number of test images of traffic signs with road notifications:', len(os.listdir(test_directory2)))\n",
        "print('Total number of test images of danger traffic signs:', len(os.listdir(test_directory3)))"
      ],
      "metadata": {
        "colab": {
          "base_uri": "https://localhost:8080/"
        },
        "id": "sWgdnnnT3D1i",
        "outputId": "c396b002-bc4a-4b1c-efd0-b8fbdd15e440"
      },
      "execution_count": null,
      "outputs": [
        {
          "output_type": "stream",
          "name": "stdout",
          "text": [
            "Total number of training images of traffic signs with explicit commands: 8856\n",
            "Total number of training images of traffic signs with road notifications: 3240\n",
            "Total number of training images of danger traffic signs: 4428\n",
            "Total number of test images of traffic signs with explicit commands: 1698\n",
            "Total number of test images of traffic signs with road notifications: 123\n",
            "Total number of test images of danger traffic signs: 218\n"
          ]
        }
      ]
    },
    {
      "cell_type": "code",
      "source": [
        "from tensorflow.keras.preprocessing.image import ImageDataGenerator\n",
        "from tensorflow.keras import layers\n",
        "from tensorflow.keras import Model\n",
        "\n",
        "from keras.preprocessing.image import ImageDataGenerator\n",
        "\n",
        "train_datagen = ImageDataGenerator(\n",
        "      # sklairanje slika\n",
        "      rescale=1./255,\n",
        "\n",
        "      #rotiranje 20%\n",
        "      rotation_range=20,\n",
        "\n",
        "      # random razvlacenje u sirinu za 20%\n",
        "      width_shift_range=0.2,\n",
        "\n",
        "      # random razvlacenje u visinu 20%\n",
        "      height_shift_range=0.2,\n",
        "\n",
        "      #okretanje slike horizontalno\n",
        "      horizontal_flip=True\n",
        "      )\n",
        "\n",
        "# sklairanje slika\n",
        "validation_datagen = ImageDataGenerator(\n",
        "      rescale=1./255)\n",
        "\n",
        "train_generator = train_datagen.flow_from_directory(train_directory,\n",
        "\n",
        "        # nove postavljene dimenzije slika\n",
        "        target_size=(300, 300),\n",
        "\n",
        "        # velicina mini batcha\n",
        "        batch_size=32,\n",
        "\n",
        "        # buduci da postoje tri klase, nije moguce postaviti class_mode na binary kao u primjeru\n",
        "        # Horse or Human, vec mora biti categorical\n",
        "        # izvor: https://stackoverflow.com/questions/59439128/what-does-class-mode-parameter-in-keras-image-gen-flow-from-directory-signify\n",
        "        class_mode='categorical')\n",
        "\n",
        "validation_generator = validation_datagen.flow_from_directory(validation_directory,\n",
        "        target_size=(300, 300),\n",
        "        batch_size=32,\n",
        "        class_mode='categorical')"
      ],
      "metadata": {
        "colab": {
          "base_uri": "https://localhost:8080/"
        },
        "id": "YIRL9n_83HfB",
        "outputId": "a4eead18-18b9-4c69-f2fe-efa74ca0e922"
      },
      "execution_count": null,
      "outputs": [
        {
          "output_type": "stream",
          "name": "stdout",
          "text": [
            "Found 16524 images belonging to 3 classes.\n",
            "Found 2039 images belonging to 3 classes.\n"
          ]
        }
      ]
    },
    {
      "cell_type": "code",
      "source": [
        "import tensorflow as tf\n",
        "\n",
        "model = tf.keras.models.Sequential([\n",
        "\n",
        "    # Prvi konvolucijski sloj\n",
        "    tf.keras.layers.Conv2D(16, (3,3), activation='relu', input_shape=(300, 300, 3)),\n",
        "    tf.keras.layers.MaxPooling2D(2, 2),\n",
        "\n",
        "    # Drugi konvolucijski sloj\n",
        "    tf.keras.layers.Conv2D(32, (3,3), activation='relu'),\n",
        "    tf.keras.layers.Dropout(0.25),\n",
        "    tf.keras.layers.MaxPooling2D(2,2),\n",
        "\n",
        "    # Treci konvolucijski sloj\n",
        "    tf.keras.layers.Conv2D(64, (3,3), activation='relu'),\n",
        "    tf.keras.layers.Dropout(0.25),\n",
        "    tf.keras.layers.MaxPooling2D(2,2),\n",
        "\n",
        "    tf.keras.layers.Flatten(),\n",
        "    tf.keras.layers.Dropout(0.25),\n",
        "\n",
        "    # Skriveni sloj\n",
        "    tf.keras.layers.Dense(512, activation='relu'),\n",
        "\n",
        "    tf.keras.layers.Dense(3, activation='softmax')\n",
        "])\n",
        "\n",
        "model.summary()"
      ],
      "metadata": {
        "colab": {
          "base_uri": "https://localhost:8080/"
        },
        "id": "bSbl-_GG3cuW",
        "outputId": "d8121099-09ad-4a4a-954d-035509af36bf"
      },
      "execution_count": null,
      "outputs": [
        {
          "output_type": "stream",
          "name": "stdout",
          "text": [
            "Model: \"sequential\"\n",
            "_________________________________________________________________\n",
            " Layer (type)                Output Shape              Param #   \n",
            "=================================================================\n",
            " conv2d (Conv2D)             (None, 298, 298, 16)      448       \n",
            "                                                                 \n",
            " max_pooling2d (MaxPooling2D  (None, 149, 149, 16)     0         \n",
            " )                                                               \n",
            "                                                                 \n",
            " conv2d_1 (Conv2D)           (None, 147, 147, 32)      4640      \n",
            "                                                                 \n",
            " dropout (Dropout)           (None, 147, 147, 32)      0         \n",
            "                                                                 \n",
            " max_pooling2d_1 (MaxPooling  (None, 73, 73, 32)       0         \n",
            " 2D)                                                             \n",
            "                                                                 \n",
            " conv2d_2 (Conv2D)           (None, 71, 71, 64)        18496     \n",
            "                                                                 \n",
            " dropout_1 (Dropout)         (None, 71, 71, 64)        0         \n",
            "                                                                 \n",
            " max_pooling2d_2 (MaxPooling  (None, 35, 35, 64)       0         \n",
            " 2D)                                                             \n",
            "                                                                 \n",
            " flatten (Flatten)           (None, 78400)             0         \n",
            "                                                                 \n",
            " dropout_2 (Dropout)         (None, 78400)             0         \n",
            "                                                                 \n",
            " dense (Dense)               (None, 512)               40141312  \n",
            "                                                                 \n",
            " dense_1 (Dense)             (None, 3)                 1539      \n",
            "                                                                 \n",
            "=================================================================\n",
            "Total params: 40,166,435\n",
            "Trainable params: 40,166,435\n",
            "Non-trainable params: 0\n",
            "_________________________________________________________________\n"
          ]
        }
      ]
    },
    {
      "cell_type": "markdown",
      "source": [
        "Stvorena je neuronska mreža s manje slojeva od prethodne, također broj epoha će biti znatno manji, kao i broj koraka po svakoj od njih. Želi se vidjeti kako se model ponaša sa smanjenim resursima u odnosu na prethodna dva modela."
      ],
      "metadata": {
        "id": "jZCPMBRk37wG"
      }
    },
    {
      "cell_type": "code",
      "source": [
        "from tensorflow import keras\n",
        "from keras.models import Sequential\n",
        "from keras.layers import Dense, Dropout, Activation, Flatten\n",
        "from keras.layers import Conv2D, MaxPooling2D\n",
        "from keras.callbacks import ModelCheckpoint\n",
        "from keras import optimizers\n",
        "optimizer = keras.optimizers.Adam(learning_rate=1e-3)\n",
        "loss_func = keras.losses.CategoricalCrossentropy()\n",
        "\n",
        "model.compile(loss=\"categorical_crossentropy\",\n",
        "             optimizer=\"rmsprop\",\n",
        "             metrics=[\"accuracy\"])"
      ],
      "metadata": {
        "id": "AYfbjsJu4PE8"
      },
      "execution_count": null,
      "outputs": []
    },
    {
      "cell_type": "markdown",
      "source": [
        "Za razliku od prethodnih primjera ovdje je korišten optimizator RMSProp. Iako se za optimizator Adam smatra da je najpogodniji za manje modele, na ovom primjeru modela želi se vidjeti ponašanje u ne tako idealnim uvjetima. Iako lošiji izbor od Adama, RMSProp ima svojih predosti, a radi po principu da dodaje decay rate, tj. umanjuje kvadrat gradijenta (izvor: vlastite bilješke s predavanja)."
      ],
      "metadata": {
        "id": "x5c3XpJ55n5-"
      }
    },
    {
      "cell_type": "markdown",
      "source": [
        "U sljedećih nekoliko linija koda znatno će se promijeniti neki parametri u odnosu na prethodna dva modela. Želi se vidjeti hoće li model uspjeti doseći zadovoljavajuću razinu točnosti koristeći hiperparametre koji možda nisu najbolji izbor za dani problem, a također znatno će se smanjiti broj epoha i broj koraka po svakoj od njih."
      ],
      "metadata": {
        "id": "LcvAz7bF6VUC"
      }
    },
    {
      "cell_type": "code",
      "source": [
        "history = model.fit(train_generator,\n",
        "                    validation_data=validation_generator,\n",
        "                    steps_per_epoch=5,\n",
        "                    epochs=5,\n",
        "                    validation_steps=5,\n",
        "                    batch_size=32,\n",
        "                    verbose=1)"
      ],
      "metadata": {
        "colab": {
          "base_uri": "https://localhost:8080/"
        },
        "id": "C8lueOYw6REO",
        "outputId": "b9480973-8611-40b7-b00b-21a75ef71765"
      },
      "execution_count": null,
      "outputs": [
        {
          "output_type": "stream",
          "name": "stdout",
          "text": [
            "Epoch 1/5\n",
            "5/5 [==============================] - 24s 5s/step - loss: 18.2342 - accuracy: 0.3625 - val_loss: 0.6286 - val_accuracy: 0.8625\n",
            "Epoch 2/5\n",
            "5/5 [==============================] - 23s 5s/step - loss: 1.2558 - accuracy: 0.5125 - val_loss: 1.2483 - val_accuracy: 0.0938\n",
            "Epoch 3/5\n",
            "5/5 [==============================] - 25s 5s/step - loss: 1.0540 - accuracy: 0.4750 - val_loss: 1.1217 - val_accuracy: 0.1562\n",
            "Epoch 4/5\n",
            "5/5 [==============================] - 23s 5s/step - loss: 1.0453 - accuracy: 0.4688 - val_loss: 0.8799 - val_accuracy: 0.8813\n",
            "Epoch 5/5\n",
            "5/5 [==============================] - 23s 5s/step - loss: 0.8662 - accuracy: 0.6187 - val_loss: 0.8003 - val_accuracy: 0.8313\n"
          ]
        }
      ]
    },
    {
      "cell_type": "markdown",
      "source": [
        "**TUMAČENJE REZULTATA**\n",
        "Može se vidjeti da je točnost znatno manja nakon provođenja svih zadanih epoha nego u modelu 2. U prvoj epohi gubitak je izrazito velik što svakako nije zadovoljavajući rezultat, no međutim u posljednoj epohi taj gubitak se znatno smanjio. Točnost je također na početku izrazito niska (nije mnogo veća u odnosu na slučajni odabir), ali se u zadnjoj epohi povećava."
      ],
      "metadata": {
        "id": "m85CHtYH92vS"
      }
    },
    {
      "cell_type": "code",
      "source": [
        "import matplotlib.pyplot as plt\n",
        "\n",
        "plt.plot(history.history[\"accuracy\"],label=\"training accuracy\")\n",
        "plt.plot(history.history[\"val_accuracy\"],label=\"validation accuracy\")\n",
        "plt.legend()\n",
        "plt.show();\n",
        "\n",
        "plt.plot(history.history[\"loss\"],label=\"training loss\")\n",
        "plt.plot(history.history[\"val_loss\"],label=\"validation loss\")\n",
        "plt.legend()\n",
        "plt.show();"
      ],
      "metadata": {
        "colab": {
          "base_uri": "https://localhost:8080/",
          "height": 513
        },
        "id": "Uxci3Gsj_CSV",
        "outputId": "036b27e5-c244-4eac-a837-c6a7e246a487"
      },
      "execution_count": null,
      "outputs": [
        {
          "output_type": "display_data",
          "data": {
            "text/plain": [
              "<Figure size 432x288 with 1 Axes>"
            ],
            "image/png": "[encoded data removed]"
          },
          "metadata": {
            "needs_background": "light"
          }
        },
        {
          "output_type": "display_data",
          "data": {
            "text/plain": [
              "<Figure size 432x288 with 1 Axes>"
            ],
            "image/png": "[encoded data removed]"
          },
          "metadata": {
            "needs_background": "light"
          }
        }
      ]
    },
    {
      "cell_type": "markdown",
      "source": [
        "**GRAFIČKI PRIKAZ REZULTATA**\n",
        "U odnosu na prethodne modele vidi se da se prikazi točnosti trening i test skupa nisu nikako zadovoljavajući. Velike su oscilacije između njih te se vidi da mogel solidno generalizira na trening skupu, ali testni skup ima velikih oscilacija."
      ],
      "metadata": {
        "id": "-UE6hoYE_QWG"
      }
    },
    {
      "cell_type": "markdown",
      "source": [
        "**ZAKLJUČAK**\n",
        "Odabir prikladnih hiperparametara ključan je za stvaranje dobrog modela. Na konkretan problem nije moguće postaviti bilo koji optimizator, niti je poželjno stvarati vrlo plitku neuronsku mrežu. Također, potreban je veći broj epoha za treniranje kako bi model bio što napredniji. Ovaj model je primjer ne tako dobrog rješenja za zadani problem."
      ],
      "metadata": {
        "id": "vZ4-fBN3_7sl"
      }
    },
    {
      "cell_type": "code",
      "source": [
        "model_json = model.to_json()\n",
        "with open(\"model3.json\", \"w\") as json_file:\n",
        "  json_file.write(model_json)\n",
        "\n",
        "model.save_weights('model3.h5')\n",
        "\n",
        "!cp model3.h5 /content/drive/MyDrive"
      ],
      "metadata": {
        "id": "LiuPy9TAAfqp"
      },
      "execution_count": null,
      "outputs": []
    }
  ]
}