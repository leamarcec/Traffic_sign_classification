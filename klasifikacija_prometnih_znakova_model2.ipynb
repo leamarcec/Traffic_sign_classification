{
  "nbformat": 4,
  "nbformat_minor": 0,
  "metadata": {
    "colab": {
      "provenance": [],
      "authorship_tag": "ABX9TyMowXa4/9Dgvq9UHvZims8R",
      "include_colab_link": true
    },
    "kernelspec": {
      "name": "python3",
      "display_name": "Python 3"
    },
    "language_info": {
      "name": "python"
    }
  },
  "cells": [
    {
      "cell_type": "markdown",
      "metadata": {
        "id": "view-in-github",
        "colab_type": "text"
      },
      "source": [
        "<a href=\"https://colab.research.google.com/github/leamarcec/Traffic_sign_classification/blob/main/klasifikacija_prometnih_znakova_model2.ipynb\" target=\"_parent\"><img src=\"https://colab.research.google.com/assets/colab-badge.svg\" alt=\"Open In Colab\"/></a>"
      ]
    },
    {
      "cell_type": "code",
      "execution_count": null,
      "metadata": {
        "colab": {
          "base_uri": "https://localhost:8080/"
        },
        "id": "PM8p4Wc6nin3",
        "outputId": "c55a6524-eaed-407d-90c5-166c4ba8fab0"
      },
      "outputs": [
        {
          "output_type": "stream",
          "name": "stdout",
          "text": [
            "Mounted at /content/drive\n"
          ]
        }
      ],
      "source": [
        "from google.colab import drive\n",
        "drive.mount('/content/drive', force_remount=True)"
      ]
    },
    {
      "cell_type": "code",
      "source": [
        "import os\n",
        "import zipfile\n",
        "\n",
        "zip_ref = zipfile.ZipFile('/content/drive/MyDrive/images.zip', 'r')\n",
        "zip_ref.extractall('/tmp')\n",
        "zip_ref.close()\n",
        "len(os.listdir('/tmp/images/'))"
      ],
      "metadata": {
        "colab": {
          "base_uri": "https://localhost:8080/"
        },
        "id": "-a_if48invwo",
        "outputId": "b93cf64a-2ab1-4ccb-dab1-a6f14bf89589"
      },
      "execution_count": null,
      "outputs": [
        {
          "output_type": "execute_result",
          "data": {
            "text/plain": [
              "6"
            ]
          },
          "metadata": {},
          "execution_count": 2
        }
      ]
    },
    {
      "cell_type": "code",
      "source": [
        "base_dir = '/tmp/images/'\n",
        "\n",
        "train_directory = os.path.join(base_dir, 'Train')\n",
        "\n",
        "validation_directory = os.path.join(base_dir, 'Test')"
      ],
      "metadata": {
        "id": "vI7pG9A_n0DJ"
      },
      "execution_count": null,
      "outputs": []
    },
    {
      "cell_type": "code",
      "source": [
        "# Direktorij sa trening slikama koje predstavljaju znakove izricitih naredbi\n",
        "train_class11_dir = os.path.join(train_directory, 'znakovi-izricitih-naredbi')\n",
        "\n",
        "# Direktorij sa trening slikama koje predstavljaju znakove obavijesti\n",
        "train_class22_dir = os.path.join(train_directory, 'znakovi-obavijesti')\n",
        "\n",
        "# Direktorij sa trening slikama koje predstavljaju znakove opasnosti\n",
        "train_class33_dir = os.path.join(train_directory, 'znakovi-opasnosti')\n",
        "\n",
        "# Direktorij sa test slikama koje predstavljaju znakove izricitih naredbi\n",
        "test_directory1 = os.path.join(validation_directory, 'znakovi-izricitih-naredbi')\n",
        "\n",
        "# Direktorij sa test slikama koje predstavljaju znakove obavijesti\n",
        "test_directory2 = os.path.join(validation_directory, 'znakovi-obavijesti')\n",
        "\n",
        "# Direktorij sa test slikama koje predstavljaju znakove opasnosti\n",
        "test_directory3 = os.path.join(validation_directory, 'znakovi-opasnosti')"
      ],
      "metadata": {
        "id": "-8IZmvwIn46z"
      },
      "execution_count": null,
      "outputs": []
    },
    {
      "cell_type": "code",
      "source": [
        "print('Total number of training images of traffic signs with explicit commands:', len(os.listdir(train_class11_dir)))\n",
        "print('Total number of training images of traffic signs with road notifications:', len(os.listdir(train_class22_dir)))\n",
        "print('Total number of training images of danger traffic signs:', len(os.listdir(train_class33_dir)))\n",
        "\n",
        "print('Total number of test images of traffic signs with explicit commands:', len(os.listdir(test_directory1)))\n",
        "print('Total number of test images of traffic signs with road notifications:', len(os.listdir(test_directory2)))\n",
        "print('Total number of test images of danger traffic signs:', len(os.listdir(test_directory3)))"
      ],
      "metadata": {
        "colab": {
          "base_uri": "https://localhost:8080/"
        },
        "id": "MiKDOlaSn6SZ",
        "outputId": "c0667bbc-2b43-41b5-912c-6e0dd53e350c"
      },
      "execution_count": null,
      "outputs": [
        {
          "output_type": "stream",
          "name": "stdout",
          "text": [
            "Total number of training images of traffic signs with explicit commands: 8856\n",
            "Total number of training images of traffic signs with road notifications: 3240\n",
            "Total number of training images of danger traffic signs: 4428\n",
            "Total number of test images of traffic signs with explicit commands: 1698\n",
            "Total number of test images of traffic signs with road notifications: 123\n",
            "Total number of test images of danger traffic signs: 218\n"
          ]
        }
      ]
    },
    {
      "cell_type": "markdown",
      "source": [
        "**Data Augmentation 2**"
      ],
      "metadata": {
        "id": "56-lgPPIopbl"
      }
    },
    {
      "cell_type": "code",
      "source": [
        "from tensorflow.keras.preprocessing.image import ImageDataGenerator\n",
        "from tensorflow.keras import layers\n",
        "from tensorflow.keras import Model\n",
        "\n",
        "from keras.preprocessing.image import ImageDataGenerator\n",
        "\n",
        "train_datagen = ImageDataGenerator(\n",
        "      # sklairanje slika\n",
        "      rescale=1./255,\n",
        "\n",
        "      #rotiranje 20%\n",
        "      rotation_range=20,\n",
        "\n",
        "      # random razvlacenje u sirinu za 20%\n",
        "      width_shift_range=0.2,\n",
        "\n",
        "      # random razvlacenje u visinu 20%\n",
        "      height_shift_range=0.2,\n",
        "\n",
        "      #okretanje slike horizontalno\n",
        "      horizontal_flip=True\n",
        "      )\n",
        "\n",
        "# sklairanje slika\n",
        "validation_datagen = ImageDataGenerator(\n",
        "      rescale=1./255)\n",
        "\n",
        "train_generator = train_datagen.flow_from_directory(train_directory,\n",
        "\n",
        "        # nove postavljene dimenzije slika\n",
        "        target_size=(300, 300),\n",
        "\n",
        "        # velicina mini batcha\n",
        "        batch_size=64,\n",
        "\n",
        "        # buduci da postoje tri klase, nije moguce postaviti class_mode na binary kao u primjeru\n",
        "        # Horse or Human, vec mora biti categorical\n",
        "        # izvor: https://stackoverflow.com/questions/59439128/what-does-class-mode-parameter-in-keras-image-gen-flow-from-directory-signify\n",
        "        class_mode='categorical')\n",
        "\n",
        "validation_generator = validation_datagen.flow_from_directory(validation_directory,\n",
        "        target_size=(300, 300),\n",
        "        batch_size=64,\n",
        "        class_mode='categorical')"
      ],
      "metadata": {
        "colab": {
          "base_uri": "https://localhost:8080/"
        },
        "id": "FYBZHYw7oEtT",
        "outputId": "427a2abe-258d-40bf-e1cf-b884cd0485a2"
      },
      "execution_count": null,
      "outputs": [
        {
          "output_type": "stream",
          "name": "stdout",
          "text": [
            "Found 16524 images belonging to 3 classes.\n",
            "Found 2039 images belonging to 3 classes.\n"
          ]
        }
      ]
    },
    {
      "cell_type": "code",
      "source": [
        "import tensorflow as tf\n",
        "\n",
        "model = tf.keras.models.Sequential([\n",
        "\n",
        "    # Prvi konvolucijski sloj\n",
        "    tf.keras.layers.Conv2D(16, (3,3), activation='relu', input_shape=(300, 300, 3)),\n",
        "    tf.keras.layers.MaxPooling2D(2, 2),\n",
        "\n",
        "    # Drugi konvolucijski sloj\n",
        "    tf.keras.layers.Conv2D(32, (3,3), activation='relu'),\n",
        "    tf.keras.layers.Dropout(0.25),\n",
        "    tf.keras.layers.MaxPooling2D(2,2),\n",
        "\n",
        "    # Treci konvolucijski sloj\n",
        "    tf.keras.layers.Conv2D(64, (3,3), activation='relu'),\n",
        "    tf.keras.layers.Dropout(0.25),\n",
        "    tf.keras.layers.MaxPooling2D(2,2),\n",
        "\n",
        "    # Cetvrti konvolucijski sloj\n",
        "    tf.keras.layers.Conv2D(64, (3,3), activation='relu'),\n",
        "    tf.keras.layers.MaxPooling2D(2,2),\n",
        "\n",
        "    tf.keras.layers.Flatten(),\n",
        "    tf.keras.layers.Dropout(0.25),\n",
        "\n",
        "    # Skriveni sloj\n",
        "    tf.keras.layers.Dense(512, activation='relu'),\n",
        "\n",
        "    tf.keras.layers.Dense(3, activation='softmax')\n",
        "])\n",
        "\n",
        "model.summary()"
      ],
      "metadata": {
        "colab": {
          "base_uri": "https://localhost:8080/"
        },
        "id": "ISGW8UzLomrZ",
        "outputId": "e5528ffb-418b-4e3a-c3b9-2d0760f77f42"
      },
      "execution_count": null,
      "outputs": [
        {
          "output_type": "stream",
          "name": "stdout",
          "text": [
            "Model: \"sequential\"\n",
            "_________________________________________________________________\n",
            " Layer (type)                Output Shape              Param #   \n",
            "=================================================================\n",
            " conv2d (Conv2D)             (None, 298, 298, 16)      448       \n",
            "                                                                 \n",
            " max_pooling2d (MaxPooling2D  (None, 149, 149, 16)     0         \n",
            " )                                                               \n",
            "                                                                 \n",
            " conv2d_1 (Conv2D)           (None, 147, 147, 32)      4640      \n",
            "                                                                 \n",
            " dropout (Dropout)           (None, 147, 147, 32)      0         \n",
            "                                                                 \n",
            " max_pooling2d_1 (MaxPooling  (None, 73, 73, 32)       0         \n",
            " 2D)                                                             \n",
            "                                                                 \n",
            " conv2d_2 (Conv2D)           (None, 71, 71, 64)        18496     \n",
            "                                                                 \n",
            " dropout_1 (Dropout)         (None, 71, 71, 64)        0         \n",
            "                                                                 \n",
            " max_pooling2d_2 (MaxPooling  (None, 35, 35, 64)       0         \n",
            " 2D)                                                             \n",
            "                                                                 \n",
            " conv2d_3 (Conv2D)           (None, 33, 33, 64)        36928     \n",
            "                                                                 \n",
            " max_pooling2d_3 (MaxPooling  (None, 16, 16, 64)       0         \n",
            " 2D)                                                             \n",
            "                                                                 \n",
            " flatten (Flatten)           (None, 16384)             0         \n",
            "                                                                 \n",
            " dropout_2 (Dropout)         (None, 16384)             0         \n",
            "                                                                 \n",
            " dense (Dense)               (None, 512)               8389120   \n",
            "                                                                 \n",
            " dense_1 (Dense)             (None, 3)                 1539      \n",
            "                                                                 \n",
            "=================================================================\n",
            "Total params: 8,451,171\n",
            "Trainable params: 8,451,171\n",
            "Non-trainable params: 0\n",
            "_________________________________________________________________\n"
          ]
        }
      ]
    },
    {
      "cell_type": "code",
      "source": [
        "from tensorflow import keras\n",
        "from keras.models import Sequential\n",
        "from keras.layers import Dense, Dropout, Activation, Flatten\n",
        "from keras.layers import Conv2D, MaxPooling2D\n",
        "from tensorflow.keras.optimizers import Adam\n",
        "from keras.callbacks import ModelCheckpoint\n",
        "from keras import optimizers\n",
        "optimizer = keras.optimizers.Adam(learning_rate=5e-4)\n",
        "loss_func = keras.losses.CategoricalCrossentropy()\n",
        "\n",
        "model.compile(optimizer=optimizer,\n",
        "              loss=loss_func,\n",
        "              metrics=['accuracy'])"
      ],
      "metadata": {
        "id": "1nYQtF9kpVJ1"
      },
      "execution_count": null,
      "outputs": []
    },
    {
      "cell_type": "code",
      "source": [
        "history = model.fit(train_generator,\n",
        "                    validation_data=validation_generator,\n",
        "                    steps_per_epoch=30,\n",
        "                    epochs=20,\n",
        "                    validation_steps=30,\n",
        "                    batch_size=64,\n",
        "                    verbose=1)"
      ],
      "metadata": {
        "colab": {
          "base_uri": "https://localhost:8080/"
        },
        "id": "705G04Sapl5G",
        "outputId": "4d5e6068-fd5a-4f5e-ef4d-e06f0a01b958"
      },
      "execution_count": null,
      "outputs": [
        {
          "output_type": "stream",
          "name": "stdout",
          "text": [
            "Epoch 1/20\n",
            "30/30 [==============================] - 262s 9s/step - loss: 1.1086 - accuracy: 0.4802 - val_loss: 0.9106 - val_accuracy: 0.8333\n",
            "Epoch 2/20\n",
            "30/30 [==============================] - 251s 8s/step - loss: 0.8754 - accuracy: 0.5766 - val_loss: 0.5653 - val_accuracy: 0.9000\n",
            "Epoch 3/20\n",
            "30/30 [==============================] - 260s 9s/step - loss: 0.6824 - accuracy: 0.6854 - val_loss: 0.5453 - val_accuracy: 0.8786\n",
            "Epoch 4/20\n",
            "30/30 [==============================] - 293s 10s/step - loss: 0.5328 - accuracy: 0.7979 - val_loss: 0.4391 - val_accuracy: 0.9187\n",
            "Epoch 5/20\n",
            "30/30 [==============================] - 259s 9s/step - loss: 0.3914 - accuracy: 0.8646 - val_loss: 0.3041 - val_accuracy: 0.9307\n",
            "Epoch 6/20\n",
            "30/30 [==============================] - 254s 8s/step - loss: 0.3123 - accuracy: 0.8875 - val_loss: 0.4025 - val_accuracy: 0.8542\n",
            "Epoch 7/20\n",
            "30/30 [==============================] - 292s 10s/step - loss: 0.2509 - accuracy: 0.9104 - val_loss: 0.4219 - val_accuracy: 0.7896\n",
            "Epoch 8/20\n",
            "30/30 [==============================] - 292s 10s/step - loss: 0.1991 - accuracy: 0.9198 - val_loss: 0.2570 - val_accuracy: 0.9031\n",
            "Epoch 9/20\n",
            "30/30 [==============================] - 292s 10s/step - loss: 0.1773 - accuracy: 0.9391 - val_loss: 0.2510 - val_accuracy: 0.9115\n",
            "Epoch 10/20\n",
            "30/30 [==============================] - 257s 9s/step - loss: 0.1677 - accuracy: 0.9464 - val_loss: 0.1917 - val_accuracy: 0.9427\n",
            "Epoch 11/20\n",
            "30/30 [==============================] - 293s 10s/step - loss: 0.1392 - accuracy: 0.9500 - val_loss: 0.1878 - val_accuracy: 0.9448\n",
            "Epoch 12/20\n",
            "30/30 [==============================] - 292s 10s/step - loss: 0.1414 - accuracy: 0.9526 - val_loss: 0.2328 - val_accuracy: 0.8974\n",
            "Epoch 13/20\n",
            "30/30 [==============================] - 254s 8s/step - loss: 0.1240 - accuracy: 0.9625 - val_loss: 0.1209 - val_accuracy: 0.9703\n",
            "Epoch 14/20\n",
            "30/30 [==============================] - 291s 10s/step - loss: 0.1200 - accuracy: 0.9625 - val_loss: 0.1303 - val_accuracy: 0.9651\n",
            "Epoch 15/20\n",
            "30/30 [==============================] - 291s 10s/step - loss: 0.1360 - accuracy: 0.9563 - val_loss: 0.1180 - val_accuracy: 0.9651\n",
            "Epoch 16/20\n",
            "30/30 [==============================] - 253s 8s/step - loss: 0.1010 - accuracy: 0.9635 - val_loss: 0.1220 - val_accuracy: 0.9599\n",
            "Epoch 17/20\n",
            "30/30 [==============================] - 254s 8s/step - loss: 0.0845 - accuracy: 0.9682 - val_loss: 0.1078 - val_accuracy: 0.9677\n",
            "Epoch 18/20\n",
            "30/30 [==============================] - 292s 10s/step - loss: 0.0745 - accuracy: 0.9760 - val_loss: 0.1543 - val_accuracy: 0.9526\n",
            "Epoch 19/20\n",
            "30/30 [==============================] - 291s 10s/step - loss: 0.0846 - accuracy: 0.9698 - val_loss: 0.0773 - val_accuracy: 0.9797\n",
            "Epoch 20/20\n",
            "30/30 [==============================] - 291s 10s/step - loss: 0.0738 - accuracy: 0.9771 - val_loss: 0.1437 - val_accuracy: 0.9516\n"
          ]
        }
      ]
    },
    {
      "cell_type": "code",
      "source": [
        "import matplotlib.pyplot as plt\n",
        "\n",
        "plt.plot(history.history[\"accuracy\"],label=\"training accuracy\")\n",
        "plt.plot(history.history[\"val_accuracy\"],label=\"validation accuracy\")\n",
        "plt.legend()\n",
        "plt.show();\n",
        "\n",
        "plt.plot(history.history[\"loss\"],label=\"training loss\")\n",
        "plt.plot(history.history[\"val_loss\"],label=\"validation loss\")\n",
        "plt.legend()\n",
        "plt.show();"
      ],
      "metadata": {
        "colab": {
          "base_uri": "https://localhost:8080/",
          "height": 515
        },
        "id": "2DLciqJ4MDQI",
        "outputId": "192d378a-0b7f-4495-ba4d-d14524d0e9b3"
      },
      "execution_count": null,
      "outputs": [
        {
          "output_type": "display_data",
          "data": {
            "text/plain": [
              "<Figure size 432x288 with 1 Axes>"
            ],
            "image/png": "[encoded data removed]"
          },
          "metadata": {
            "needs_background": "light"
          }
        },
        {
          "output_type": "display_data",
          "data": {
            "text/plain": [
              "<Figure size 432x288 with 1 Axes>"
            ],
            "image/png": "[encoded data removed]"
          },
          "metadata": {
            "needs_background": "light"
          }
        }
      ]
    },
    {
      "cell_type": "markdown",
      "source": [
        "Iz grafičkog prikaza vidljivo je da je točnost na validacijskom skupu sve bliža točnosti na trening skupu, što je zadovoljavajući rezultat."
      ],
      "metadata": {
        "id": "bdgEOFtKOQvm"
      }
    },
    {
      "cell_type": "code",
      "source": [
        "model_json = model.to_json()\n",
        "with open(\"model2.json\", \"w\") as json_file:\n",
        "  json_file.write(model_json)\n",
        "\n",
        "model.save_weights('model2.h5')\n",
        "\n",
        "!cp model2.h5 /content/drive/MyDrive"
      ],
      "metadata": {
        "id": "o3r2W9YpN1Wp"
      },
      "execution_count": null,
      "outputs": []
    },
    {
      "cell_type": "markdown",
      "source": [
        "**6. ZAKLJUČAK**\n",
        "Kako bi se pronašao dobar model potrebno je isprobavati različite hiperparametre. Osim izgrađena dva modela svakako bi se moglo napraviti još raznih modela, ali budući da je točnost modela vrlo zadovoljavajuća, to u ovom primjeru neće biti potrebno. Vrlo je važno koristiti pogodne konvolucijske slojeve, ali i primjerene aktivacijske funkcije, jer upotrebom hiperparametara koji nisu pogodni za određenu vrstu podataka neće dati zodovoljavajući rezultat."
      ],
      "metadata": {
        "id": "82eLt8SDQoDb"
      }
    }
  ]
}